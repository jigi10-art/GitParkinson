{
 "cells": [
  {
   "cell_type": "code",
   "execution_count": 2,
   "id": "c56843a1-eb79-4264-9a43-820939ce35a4",
   "metadata": {},
   "outputs": [
    {
     "name": "stdin",
     "output_type": "stream",
     "text": [
      "Enter MDVP:Fo(Hz):  1\n",
      "Enter MDVP:Fhi(Hz):  1\n",
      "Enter MDVP:Flo(Hz):  1\n",
      "Enter MDVP:Jitter(%):  1\n",
      "Enter MDVP:Jitter(Abs):  1\n",
      "Enter MDVP:RAP:  1\n",
      "Enter MDVP:PPQ:  1\n",
      "Enter Jitter:DDP:  1\n",
      "Enter MDVP:Shimmer:  1\n",
      "Enter MDVP:Shimmer(dB):  1\n",
      "Enter Shimmer:APQ3:  1\n",
      "Enter Shimmer:APQ5:  1\n",
      "Enter MDVP:APQ:  1\n",
      "Enter Shimmer:DDA:  1\n",
      "Enter NHR:  1\n",
      "Enter HNR:  1\n",
      "Enter RPDE:  1\n",
      "Enter DFA:  1\n",
      "Enter spread1:  1\n",
      "Enter spread2:  1\n",
      "Enter D2:  1\n",
      "Enter PPE:  1\n"
     ]
    },
    {
     "name": "stdout",
     "output_type": "stream",
     "text": [
      "The Person has Parkinson's Disease\n"
     ]
    },
    {
     "name": "stderr",
     "output_type": "stream",
     "text": [
      "C:\\Users\\anagh\\anaconda3\\Lib\\site-packages\\sklearn\\base.py:493: UserWarning: X does not have valid feature names, but StandardScaler was fitted with feature names\n",
      "  warnings.warn(\n",
      "C:\\Users\\anagh\\anaconda3\\Lib\\site-packages\\sklearn\\base.py:493: UserWarning: X does not have valid feature names, but RandomForestClassifier was fitted with feature names\n",
      "  warnings.warn(\n"
     ]
    }
   ],
   "source": [
    "import numpy as np\n",
    "import joblib\n",
    "\n",
    "# Load the saved model\n",
    "model_path = r\"C:\\Users\\anagh\\Downloads\\PDip\\PDip\\Sav\\model.sav\"\n",
    "model = joblib.load(model_path)\n",
    "\n",
    "# Load the scaler\n",
    "scaler_path = r\"C:\\Users\\anagh\\Downloads\\PDip\\PDip\\Scaler\\scaler_joblib\"\n",
    "scaler = joblib.load(scaler_path)\n",
    "\n",
    "# Manually input feature values\n",
    "input_data = []\n",
    "\n",
    "# Manually input each feature value\n",
    "input_data.append(float(input(\"Enter MDVP:Fo(Hz): \")))\n",
    "input_data.append(float(input(\"Enter MDVP:Fhi(Hz): \")))\n",
    "input_data.append(float(input(\"Enter MDVP:Flo(Hz): \")))\n",
    "input_data.append(float(input(\"Enter MDVP:Jitter(%): \")))\n",
    "input_data.append(float(input(\"Enter MDVP:Jitter(Abs): \")))\n",
    "input_data.append(float(input(\"Enter MDVP:RAP: \")))\n",
    "input_data.append(float(input(\"Enter MDVP:PPQ: \")))\n",
    "input_data.append(float(input(\"Enter Jitter:DDP: \")))\n",
    "input_data.append(float(input(\"Enter MDVP:Shimmer: \")))\n",
    "input_data.append(float(input(\"Enter MDVP:Shimmer(dB): \")))\n",
    "input_data.append(float(input(\"Enter Shimmer:APQ3: \")))\n",
    "input_data.append(float(input(\"Enter Shimmer:APQ5: \")))\n",
    "input_data.append(float(input(\"Enter MDVP:APQ: \")))\n",
    "input_data.append(float(input(\"Enter Shimmer:DDA: \")))\n",
    "input_data.append(float(input(\"Enter NHR: \")))\n",
    "input_data.append(float(input(\"Enter HNR: \")))\n",
    "input_data.append(float(input(\"Enter RPDE: \")))\n",
    "input_data.append(float(input(\"Enter DFA: \")))\n",
    "input_data.append(float(input(\"Enter spread1: \")))\n",
    "input_data.append(float(input(\"Enter spread2: \")))\n",
    "input_data.append(float(input(\"Enter D2: \")))\n",
    "input_data.append(float(input(\"Enter PPE: \")))\n",
    "# Repeat for all 22 features...\n",
    "\n",
    "# Convert to numpy array and reshape\n",
    "input_data_as_numpy_array = np.asarray(input_data)\n",
    "input_data_reshaped = input_data_as_numpy_array.reshape(1, -1)\n",
    "\n",
    "# Standardize the data\n",
    "std_data = scaler.transform(input_data_reshaped)\n",
    "\n",
    "# Predict\n",
    "prediction = model.predict(std_data)\n",
    "\n",
    "# Output prediction\n",
    "if prediction[0] == 0:\n",
    "    print(\"The Person does not have Parkinson's Disease\")\n",
    "else:\n",
    "    print(\"The Person has Parkinson's Disease\")\n"
   ]
  },
  {
   "cell_type": "code",
   "execution_count": null,
   "id": "7735ab0b-a1b8-47b6-94d0-0ad02a358cc6",
   "metadata": {},
   "outputs": [],
   "source": []
  }
 ],
 "metadata": {
  "kernelspec": {
   "display_name": "Python 3 (ipykernel)",
   "language": "python",
   "name": "python3"
  },
  "language_info": {
   "codemirror_mode": {
    "name": "ipython",
    "version": 3
   },
   "file_extension": ".py",
   "mimetype": "text/x-python",
   "name": "python",
   "nbconvert_exporter": "python",
   "pygments_lexer": "ipython3",
   "version": "3.11.7"
  }
 },
 "nbformat": 4,
 "nbformat_minor": 5
}

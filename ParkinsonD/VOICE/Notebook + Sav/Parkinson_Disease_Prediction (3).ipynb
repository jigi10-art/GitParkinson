{
 "cells": [
  {
   "cell_type": "markdown",
   "metadata": {
    "id": "e5-bws_ArXAp"
   },
   "source": []
  },
  {
   "cell_type": "code",
   "execution_count": null,
   "metadata": {
    "id": "uiOQJOcsenjB"
   },
   "outputs": [],
   "source": []
  },
  {
   "cell_type": "markdown",
   "metadata": {
    "id": "FTSKnxQyJ0Wx"
   },
   "source": [
    "# Parkinsons Disease\n",
    "The objective is to find a model which will be able to predict whether a person is likely to have parkinsons disease or not given their medical records.\n",
    "___\n",
    "\n",
    "## Model Performamce\n",
    "Accuracy, F1-Score and Recall were the metrics used to evaluate the performance of the model\n",
    "\n",
    "| Method    |  Accuracy (%)  | F1-Score (%) | Recall (%) |\n",
    "|-----------|---------|-----------|---------|\n",
    "| **Random Forest**   | **97.44**   | **98.41** | **100.00** |\n",
    "| XGBoost | 89.74   | 93.94 | **100.00** |\n",
    "| SVM | 89.74   | 93.33 | 90.32 |\n",
    "___\n",
    "\n",
    "### Steps to Solve Problem\n",
    "* Import Dataset and Libraries\n",
    "* Data Preprocessing\n",
    "    * Train / Test Data split\n",
    "    * Missing Data Imputation\n",
    "    * Outlier Handling\n",
    "    * Feature Scaling\n",
    "    * Imbalanced Data\n",
    "* Model Build\n",
    "    * Model Initiation and Fitting\n",
    "    * Test predictions\n",
    "* Model Perfromance\n",
    "    * Recall\n",
    "    * Case Prediction\n",
    "        \n"
   ]
  },
  {
   "cell_type": "markdown",
   "metadata": {
    "id": "fnaNm1JsJ0Wz"
   },
   "source": [
    "### Import Libraries and Dataset"
   ]
  },
  {
   "cell_type": "code",
   "execution_count": 1,
   "metadata": {
    "executionInfo": {
     "elapsed": 1967,
     "status": "ok",
     "timestamp": 1715594766838,
     "user": {
      "displayName": "Jigisha Lad",
      "userId": "13146438656362615572"
     },
     "user_tz": -330
    },
    "id": "0zSj23wEJ0Wz"
   },
   "outputs": [],
   "source": [
    "import pandas as pd # for data manipulation\n",
    "import numpy as np # for numerical analysis\n",
    "\n",
    "# For plottling graphs\n",
    "import seaborn as sns\n",
    "import matplotlib.pyplot as plt\n",
    "\n",
    "# for saving tools\n",
    "import joblib"
   ]
  },
  {
   "cell_type": "code",
   "execution_count": 2,
   "metadata": {
    "executionInfo": {
     "elapsed": 497,
     "status": "ok",
     "timestamp": 1715594775212,
     "user": {
      "displayName": "Jigisha Lad",
      "userId": "13146438656362615572"
     },
     "user_tz": -330
    },
    "id": "ioYkbofpJ0W0"
   },
   "outputs": [],
   "source": [
    "# Setting Plotting Settings\n",
    "%matplotlib inline\n",
    "sns.set_style(\"darkgrid\")"
   ]
  },
  {
   "cell_type": "markdown",
   "metadata": {
    "id": "u6TdGdyuJ0W0"
   },
   "source": [
    "Import Dataset"
   ]
  },
  {
   "cell_type": "code",
   "execution_count": 3,
   "metadata": {
    "executionInfo": {
     "elapsed": 452,
     "status": "ok",
     "timestamp": 1715594978406,
     "user": {
      "displayName": "Jigisha Lad",
      "userId": "13146438656362615572"
     },
     "user_tz": -330
    },
    "id": "9CRHUIi7J0W0"
   },
   "outputs": [],
   "source": [
    "parkinsons = pd.read_csv(r\"C:\\Users\\anagh\\Downloads\\Parkinson voice dataset.csv\")"
   ]
  },
  {
   "cell_type": "code",
   "execution_count": 4,
   "metadata": {
    "colab": {
     "base_uri": "https://localhost:8080/",
     "height": 255
    },
    "executionInfo": {
     "elapsed": 863,
     "status": "ok",
     "timestamp": 1715594983370,
     "user": {
      "displayName": "Jigisha Lad",
      "userId": "13146438656362615572"
     },
     "user_tz": -330
    },
    "id": "1Dg_KBmXJ0W0",
    "outputId": "990792eb-6f99-492e-cc29-ee3999390fbf"
   },
   "outputs": [
    {
     "data": {
      "text/html": [
       "<div>\n",
       "<style scoped>\n",
       "    .dataframe tbody tr th:only-of-type {\n",
       "        vertical-align: middle;\n",
       "    }\n",
       "\n",
       "    .dataframe tbody tr th {\n",
       "        vertical-align: top;\n",
       "    }\n",
       "\n",
       "    .dataframe thead th {\n",
       "        text-align: right;\n",
       "    }\n",
       "</style>\n",
       "<table border=\"1\" class=\"dataframe\">\n",
       "  <thead>\n",
       "    <tr style=\"text-align: right;\">\n",
       "      <th></th>\n",
       "      <th>name</th>\n",
       "      <th>MDVP:Fo(Hz)</th>\n",
       "      <th>MDVP:Fhi(Hz)</th>\n",
       "      <th>MDVP:Flo(Hz)</th>\n",
       "      <th>MDVP:Jitter(%)</th>\n",
       "      <th>MDVP:Jitter(Abs)</th>\n",
       "      <th>MDVP:RAP</th>\n",
       "      <th>MDVP:PPQ</th>\n",
       "      <th>Jitter:DDP</th>\n",
       "      <th>MDVP:Shimmer</th>\n",
       "      <th>...</th>\n",
       "      <th>Shimmer:DDA</th>\n",
       "      <th>NHR</th>\n",
       "      <th>HNR</th>\n",
       "      <th>status</th>\n",
       "      <th>RPDE</th>\n",
       "      <th>DFA</th>\n",
       "      <th>spread1</th>\n",
       "      <th>spread2</th>\n",
       "      <th>D2</th>\n",
       "      <th>PPE</th>\n",
       "    </tr>\n",
       "  </thead>\n",
       "  <tbody>\n",
       "    <tr>\n",
       "      <th>0</th>\n",
       "      <td>phon_R01_S01_1</td>\n",
       "      <td>119.992</td>\n",
       "      <td>157.302</td>\n",
       "      <td>74.997</td>\n",
       "      <td>0.00784</td>\n",
       "      <td>0.00007</td>\n",
       "      <td>0.00370</td>\n",
       "      <td>0.00554</td>\n",
       "      <td>0.01109</td>\n",
       "      <td>0.04374</td>\n",
       "      <td>...</td>\n",
       "      <td>0.06545</td>\n",
       "      <td>0.02211</td>\n",
       "      <td>21.033</td>\n",
       "      <td>1</td>\n",
       "      <td>0.414783</td>\n",
       "      <td>0.815285</td>\n",
       "      <td>-4.813031</td>\n",
       "      <td>0.266482</td>\n",
       "      <td>2.301442</td>\n",
       "      <td>0.284654</td>\n",
       "    </tr>\n",
       "    <tr>\n",
       "      <th>1</th>\n",
       "      <td>phon_R01_S01_2</td>\n",
       "      <td>122.400</td>\n",
       "      <td>148.650</td>\n",
       "      <td>113.819</td>\n",
       "      <td>0.00968</td>\n",
       "      <td>0.00008</td>\n",
       "      <td>0.00465</td>\n",
       "      <td>0.00696</td>\n",
       "      <td>0.01394</td>\n",
       "      <td>0.06134</td>\n",
       "      <td>...</td>\n",
       "      <td>0.09403</td>\n",
       "      <td>0.01929</td>\n",
       "      <td>19.085</td>\n",
       "      <td>1</td>\n",
       "      <td>0.458359</td>\n",
       "      <td>0.819521</td>\n",
       "      <td>-4.075192</td>\n",
       "      <td>0.335590</td>\n",
       "      <td>2.486855</td>\n",
       "      <td>0.368674</td>\n",
       "    </tr>\n",
       "    <tr>\n",
       "      <th>2</th>\n",
       "      <td>phon_R01_S01_3</td>\n",
       "      <td>116.682</td>\n",
       "      <td>131.111</td>\n",
       "      <td>111.555</td>\n",
       "      <td>0.01050</td>\n",
       "      <td>0.00009</td>\n",
       "      <td>0.00544</td>\n",
       "      <td>0.00781</td>\n",
       "      <td>0.01633</td>\n",
       "      <td>0.05233</td>\n",
       "      <td>...</td>\n",
       "      <td>0.08270</td>\n",
       "      <td>0.01309</td>\n",
       "      <td>20.651</td>\n",
       "      <td>1</td>\n",
       "      <td>0.429895</td>\n",
       "      <td>0.825288</td>\n",
       "      <td>-4.443179</td>\n",
       "      <td>0.311173</td>\n",
       "      <td>2.342259</td>\n",
       "      <td>0.332634</td>\n",
       "    </tr>\n",
       "    <tr>\n",
       "      <th>3</th>\n",
       "      <td>phon_R01_S01_4</td>\n",
       "      <td>116.676</td>\n",
       "      <td>137.871</td>\n",
       "      <td>111.366</td>\n",
       "      <td>0.00997</td>\n",
       "      <td>0.00009</td>\n",
       "      <td>0.00502</td>\n",
       "      <td>0.00698</td>\n",
       "      <td>0.01505</td>\n",
       "      <td>0.05492</td>\n",
       "      <td>...</td>\n",
       "      <td>0.08771</td>\n",
       "      <td>0.01353</td>\n",
       "      <td>20.644</td>\n",
       "      <td>1</td>\n",
       "      <td>0.434969</td>\n",
       "      <td>0.819235</td>\n",
       "      <td>-4.117501</td>\n",
       "      <td>0.334147</td>\n",
       "      <td>2.405554</td>\n",
       "      <td>0.368975</td>\n",
       "    </tr>\n",
       "    <tr>\n",
       "      <th>4</th>\n",
       "      <td>phon_R01_S01_5</td>\n",
       "      <td>116.014</td>\n",
       "      <td>141.781</td>\n",
       "      <td>110.655</td>\n",
       "      <td>0.01284</td>\n",
       "      <td>0.00011</td>\n",
       "      <td>0.00655</td>\n",
       "      <td>0.00908</td>\n",
       "      <td>0.01966</td>\n",
       "      <td>0.06425</td>\n",
       "      <td>...</td>\n",
       "      <td>0.10470</td>\n",
       "      <td>0.01767</td>\n",
       "      <td>19.649</td>\n",
       "      <td>1</td>\n",
       "      <td>0.417356</td>\n",
       "      <td>0.823484</td>\n",
       "      <td>-3.747787</td>\n",
       "      <td>0.234513</td>\n",
       "      <td>2.332180</td>\n",
       "      <td>0.410335</td>\n",
       "    </tr>\n",
       "  </tbody>\n",
       "</table>\n",
       "<p>5 rows × 24 columns</p>\n",
       "</div>"
      ],
      "text/plain": [
       "             name  MDVP:Fo(Hz)  MDVP:Fhi(Hz)  MDVP:Flo(Hz)  MDVP:Jitter(%)  \\\n",
       "0  phon_R01_S01_1      119.992       157.302        74.997         0.00784   \n",
       "1  phon_R01_S01_2      122.400       148.650       113.819         0.00968   \n",
       "2  phon_R01_S01_3      116.682       131.111       111.555         0.01050   \n",
       "3  phon_R01_S01_4      116.676       137.871       111.366         0.00997   \n",
       "4  phon_R01_S01_5      116.014       141.781       110.655         0.01284   \n",
       "\n",
       "   MDVP:Jitter(Abs)  MDVP:RAP  MDVP:PPQ  Jitter:DDP  MDVP:Shimmer  ...  \\\n",
       "0           0.00007   0.00370   0.00554     0.01109       0.04374  ...   \n",
       "1           0.00008   0.00465   0.00696     0.01394       0.06134  ...   \n",
       "2           0.00009   0.00544   0.00781     0.01633       0.05233  ...   \n",
       "3           0.00009   0.00502   0.00698     0.01505       0.05492  ...   \n",
       "4           0.00011   0.00655   0.00908     0.01966       0.06425  ...   \n",
       "\n",
       "   Shimmer:DDA      NHR     HNR  status      RPDE       DFA   spread1  \\\n",
       "0      0.06545  0.02211  21.033       1  0.414783  0.815285 -4.813031   \n",
       "1      0.09403  0.01929  19.085       1  0.458359  0.819521 -4.075192   \n",
       "2      0.08270  0.01309  20.651       1  0.429895  0.825288 -4.443179   \n",
       "3      0.08771  0.01353  20.644       1  0.434969  0.819235 -4.117501   \n",
       "4      0.10470  0.01767  19.649       1  0.417356  0.823484 -3.747787   \n",
       "\n",
       "    spread2        D2       PPE  \n",
       "0  0.266482  2.301442  0.284654  \n",
       "1  0.335590  2.486855  0.368674  \n",
       "2  0.311173  2.342259  0.332634  \n",
       "3  0.334147  2.405554  0.368975  \n",
       "4  0.234513  2.332180  0.410335  \n",
       "\n",
       "[5 rows x 24 columns]"
      ]
     },
     "execution_count": 4,
     "metadata": {},
     "output_type": "execute_result"
    }
   ],
   "source": [
    "# Checking First 5 rows of data\n",
    "parkinsons.head()"
   ]
  },
  {
   "cell_type": "markdown",
   "metadata": {
    "id": "S5pCzE9hJ0W1"
   },
   "source": [
    "Checking basic information about the dataset"
   ]
  },
  {
   "cell_type": "code",
   "execution_count": 5,
   "metadata": {
    "colab": {
     "base_uri": "https://localhost:8080/"
    },
    "executionInfo": {
     "elapsed": 539,
     "status": "ok",
     "timestamp": 1715594990326,
     "user": {
      "displayName": "Jigisha Lad",
      "userId": "13146438656362615572"
     },
     "user_tz": -330
    },
    "id": "fjQMBqmIJ0W1",
    "outputId": "2ad6450e-83da-4805-f229-cd8e02ee36db"
   },
   "outputs": [
    {
     "name": "stdout",
     "output_type": "stream",
     "text": [
      "<class 'pandas.core.frame.DataFrame'>\n",
      "RangeIndex: 195 entries, 0 to 194\n",
      "Data columns (total 24 columns):\n",
      " #   Column            Non-Null Count  Dtype  \n",
      "---  ------            --------------  -----  \n",
      " 0   name              195 non-null    object \n",
      " 1   MDVP:Fo(Hz)       195 non-null    float64\n",
      " 2   MDVP:Fhi(Hz)      195 non-null    float64\n",
      " 3   MDVP:Flo(Hz)      195 non-null    float64\n",
      " 4   MDVP:Jitter(%)    195 non-null    float64\n",
      " 5   MDVP:Jitter(Abs)  195 non-null    float64\n",
      " 6   MDVP:RAP          195 non-null    float64\n",
      " 7   MDVP:PPQ          195 non-null    float64\n",
      " 8   Jitter:DDP        195 non-null    float64\n",
      " 9   MDVP:Shimmer      195 non-null    float64\n",
      " 10  MDVP:Shimmer(dB)  195 non-null    float64\n",
      " 11  Shimmer:APQ3      195 non-null    float64\n",
      " 12  Shimmer:APQ5      195 non-null    float64\n",
      " 13  MDVP:APQ          195 non-null    float64\n",
      " 14  Shimmer:DDA       195 non-null    float64\n",
      " 15  NHR               195 non-null    float64\n",
      " 16  HNR               195 non-null    float64\n",
      " 17  status            195 non-null    int64  \n",
      " 18  RPDE              195 non-null    float64\n",
      " 19  DFA               195 non-null    float64\n",
      " 20  spread1           195 non-null    float64\n",
      " 21  spread2           195 non-null    float64\n",
      " 22  D2                195 non-null    float64\n",
      " 23  PPE               195 non-null    float64\n",
      "dtypes: float64(22), int64(1), object(1)\n",
      "memory usage: 36.7+ KB\n"
     ]
    }
   ],
   "source": [
    "parkinsons.info()"
   ]
  },
  {
   "cell_type": "code",
   "execution_count": 6,
   "metadata": {
    "colab": {
     "base_uri": "https://localhost:8080/"
    },
    "executionInfo": {
     "elapsed": 495,
     "status": "ok",
     "timestamp": 1715595001513,
     "user": {
      "displayName": "Jigisha Lad",
      "userId": "13146438656362615572"
     },
     "user_tz": -330
    },
    "id": "h7og5ARrJ0W2",
    "outputId": "f691342a-11a6-4a9c-e891-81dcc89c8a2c"
   },
   "outputs": [
    {
     "data": {
      "text/plain": [
       "Index(['name', 'MDVP:Fo(Hz)', 'MDVP:Fhi(Hz)', 'MDVP:Flo(Hz)', 'MDVP:Jitter(%)',\n",
       "       'MDVP:Jitter(Abs)', 'MDVP:RAP', 'MDVP:PPQ', 'Jitter:DDP',\n",
       "       'MDVP:Shimmer', 'MDVP:Shimmer(dB)', 'Shimmer:APQ3', 'Shimmer:APQ5',\n",
       "       'MDVP:APQ', 'Shimmer:DDA', 'NHR', 'HNR', 'status', 'RPDE', 'DFA',\n",
       "       'spread1', 'spread2', 'D2', 'PPE'],\n",
       "      dtype='object')"
      ]
     },
     "execution_count": 6,
     "metadata": {},
     "output_type": "execute_result"
    }
   ],
   "source": [
    "parkinsons.columns"
   ]
  },
  {
   "cell_type": "markdown",
   "metadata": {
    "id": "WRAj2Ch1J0W2"
   },
   "source": [
    "### Data Preprocessing"
   ]
  },
  {
   "cell_type": "markdown",
   "metadata": {
    "id": "BTe15H6GJ0W2"
   },
   "source": [
    "#### Data Shuffle and Split\n",
    "It is good pratice to split the dataset before preprocessing to avoid data leakage, shuffling the data adds randomness which can boost model performance"
   ]
  },
  {
   "cell_type": "code",
   "execution_count": 7,
   "metadata": {
    "executionInfo": {
     "elapsed": 511,
     "status": "ok",
     "timestamp": 1715595009472,
     "user": {
      "displayName": "Jigisha Lad",
      "userId": "13146438656362615572"
     },
     "user_tz": -330
    },
    "id": "dVTFLTObJ0W2"
   },
   "outputs": [],
   "source": [
    "# Shuffling the data\n",
    "parkinsons = parkinsons.sample(frac=1, random_state=42).copy()"
   ]
  },
  {
   "cell_type": "code",
   "execution_count": 8,
   "metadata": {
    "executionInfo": {
     "elapsed": 4,
     "status": "ok",
     "timestamp": 1715595009992,
     "user": {
      "displayName": "Jigisha Lad",
      "userId": "13146438656362615572"
     },
     "user_tz": -330
    },
    "id": "Mg0l9fLsJ0W2"
   },
   "outputs": [],
   "source": [
    "# Splitting the data into train and test data\n",
    "from sklearn.model_selection import train_test_split\n",
    "X = parkinsons.drop([\"name\", \"status\"], axis=1)\n",
    "y = parkinsons[\"status\"]\n",
    "X_train, X_test, y_train, y_test = train_test_split(X, y, test_size=0.2, random_state=51)"
   ]
  },
  {
   "cell_type": "code",
   "execution_count": 9,
   "metadata": {
    "colab": {
     "base_uri": "https://localhost:8080/",
     "height": 0
    },
    "executionInfo": {
     "elapsed": 630,
     "status": "ok",
     "timestamp": 1715595010619,
     "user": {
      "displayName": "Jigisha Lad",
      "userId": "13146438656362615572"
     },
     "user_tz": -330
    },
    "id": "MWH5JvguJ0W3",
    "outputId": "83651773-96b0-45fa-f4be-b0f5eb31e0b1"
   },
   "outputs": [
    {
     "data": {
      "text/html": [
       "<div>\n",
       "<style scoped>\n",
       "    .dataframe tbody tr th:only-of-type {\n",
       "        vertical-align: middle;\n",
       "    }\n",
       "\n",
       "    .dataframe tbody tr th {\n",
       "        vertical-align: top;\n",
       "    }\n",
       "\n",
       "    .dataframe thead th {\n",
       "        text-align: right;\n",
       "    }\n",
       "</style>\n",
       "<table border=\"1\" class=\"dataframe\">\n",
       "  <thead>\n",
       "    <tr style=\"text-align: right;\">\n",
       "      <th></th>\n",
       "      <th>MDVP:Fo(Hz)</th>\n",
       "      <th>MDVP:Fhi(Hz)</th>\n",
       "      <th>MDVP:Flo(Hz)</th>\n",
       "      <th>MDVP:Jitter(%)</th>\n",
       "      <th>MDVP:Jitter(Abs)</th>\n",
       "      <th>MDVP:RAP</th>\n",
       "      <th>MDVP:PPQ</th>\n",
       "      <th>Jitter:DDP</th>\n",
       "      <th>MDVP:Shimmer</th>\n",
       "      <th>MDVP:Shimmer(dB)</th>\n",
       "      <th>...</th>\n",
       "      <th>MDVP:APQ</th>\n",
       "      <th>Shimmer:DDA</th>\n",
       "      <th>NHR</th>\n",
       "      <th>HNR</th>\n",
       "      <th>RPDE</th>\n",
       "      <th>DFA</th>\n",
       "      <th>spread1</th>\n",
       "      <th>spread2</th>\n",
       "      <th>D2</th>\n",
       "      <th>PPE</th>\n",
       "    </tr>\n",
       "  </thead>\n",
       "  <tbody>\n",
       "    <tr>\n",
       "      <th>110</th>\n",
       "      <td>200.714</td>\n",
       "      <td>223.982</td>\n",
       "      <td>89.686</td>\n",
       "      <td>0.00621</td>\n",
       "      <td>0.00003</td>\n",
       "      <td>0.00371</td>\n",
       "      <td>0.00337</td>\n",
       "      <td>0.01112</td>\n",
       "      <td>0.02286</td>\n",
       "      <td>0.207</td>\n",
       "      <td>...</td>\n",
       "      <td>0.01852</td>\n",
       "      <td>0.03576</td>\n",
       "      <td>0.00704</td>\n",
       "      <td>23.239</td>\n",
       "      <td>0.436084</td>\n",
       "      <td>0.727863</td>\n",
       "      <td>-5.258320</td>\n",
       "      <td>0.256454</td>\n",
       "      <td>2.550961</td>\n",
       "      <td>0.232520</td>\n",
       "    </tr>\n",
       "    <tr>\n",
       "      <th>38</th>\n",
       "      <td>180.198</td>\n",
       "      <td>201.249</td>\n",
       "      <td>175.456</td>\n",
       "      <td>0.00284</td>\n",
       "      <td>0.00002</td>\n",
       "      <td>0.00153</td>\n",
       "      <td>0.00166</td>\n",
       "      <td>0.00459</td>\n",
       "      <td>0.01444</td>\n",
       "      <td>0.131</td>\n",
       "      <td>...</td>\n",
       "      <td>0.01190</td>\n",
       "      <td>0.02177</td>\n",
       "      <td>0.00231</td>\n",
       "      <td>26.738</td>\n",
       "      <td>0.403884</td>\n",
       "      <td>0.766209</td>\n",
       "      <td>-6.452058</td>\n",
       "      <td>0.212294</td>\n",
       "      <td>2.269398</td>\n",
       "      <td>0.141929</td>\n",
       "    </tr>\n",
       "    <tr>\n",
       "      <th>149</th>\n",
       "      <td>202.632</td>\n",
       "      <td>565.740</td>\n",
       "      <td>177.258</td>\n",
       "      <td>0.01627</td>\n",
       "      <td>0.00008</td>\n",
       "      <td>0.00919</td>\n",
       "      <td>0.00963</td>\n",
       "      <td>0.02756</td>\n",
       "      <td>0.07170</td>\n",
       "      <td>0.833</td>\n",
       "      <td>...</td>\n",
       "      <td>0.06460</td>\n",
       "      <td>0.10546</td>\n",
       "      <td>0.07889</td>\n",
       "      <td>14.989</td>\n",
       "      <td>0.427627</td>\n",
       "      <td>0.775708</td>\n",
       "      <td>-4.892495</td>\n",
       "      <td>0.262281</td>\n",
       "      <td>2.910213</td>\n",
       "      <td>0.270173</td>\n",
       "    </tr>\n",
       "    <tr>\n",
       "      <th>111</th>\n",
       "      <td>208.519</td>\n",
       "      <td>220.315</td>\n",
       "      <td>199.020</td>\n",
       "      <td>0.00609</td>\n",
       "      <td>0.00003</td>\n",
       "      <td>0.00368</td>\n",
       "      <td>0.00339</td>\n",
       "      <td>0.01105</td>\n",
       "      <td>0.01761</td>\n",
       "      <td>0.155</td>\n",
       "      <td>...</td>\n",
       "      <td>0.01307</td>\n",
       "      <td>0.02855</td>\n",
       "      <td>0.00830</td>\n",
       "      <td>22.407</td>\n",
       "      <td>0.338097</td>\n",
       "      <td>0.712466</td>\n",
       "      <td>-6.471427</td>\n",
       "      <td>0.184378</td>\n",
       "      <td>2.502336</td>\n",
       "      <td>0.136390</td>\n",
       "    </tr>\n",
       "    <tr>\n",
       "      <th>119</th>\n",
       "      <td>217.116</td>\n",
       "      <td>233.481</td>\n",
       "      <td>93.978</td>\n",
       "      <td>0.00404</td>\n",
       "      <td>0.00002</td>\n",
       "      <td>0.00127</td>\n",
       "      <td>0.00128</td>\n",
       "      <td>0.00381</td>\n",
       "      <td>0.01299</td>\n",
       "      <td>0.124</td>\n",
       "      <td>...</td>\n",
       "      <td>0.01075</td>\n",
       "      <td>0.02038</td>\n",
       "      <td>0.00681</td>\n",
       "      <td>24.581</td>\n",
       "      <td>0.462516</td>\n",
       "      <td>0.582710</td>\n",
       "      <td>-5.517173</td>\n",
       "      <td>0.389295</td>\n",
       "      <td>2.925862</td>\n",
       "      <td>0.220657</td>\n",
       "    </tr>\n",
       "    <tr>\n",
       "      <th>...</th>\n",
       "      <td>...</td>\n",
       "      <td>...</td>\n",
       "      <td>...</td>\n",
       "      <td>...</td>\n",
       "      <td>...</td>\n",
       "      <td>...</td>\n",
       "      <td>...</td>\n",
       "      <td>...</td>\n",
       "      <td>...</td>\n",
       "      <td>...</td>\n",
       "      <td>...</td>\n",
       "      <td>...</td>\n",
       "      <td>...</td>\n",
       "      <td>...</td>\n",
       "      <td>...</td>\n",
       "      <td>...</td>\n",
       "      <td>...</td>\n",
       "      <td>...</td>\n",
       "      <td>...</td>\n",
       "      <td>...</td>\n",
       "      <td>...</td>\n",
       "    </tr>\n",
       "    <tr>\n",
       "      <th>125</th>\n",
       "      <td>145.174</td>\n",
       "      <td>198.109</td>\n",
       "      <td>80.637</td>\n",
       "      <td>0.00733</td>\n",
       "      <td>0.00005</td>\n",
       "      <td>0.00414</td>\n",
       "      <td>0.00422</td>\n",
       "      <td>0.01242</td>\n",
       "      <td>0.02362</td>\n",
       "      <td>0.233</td>\n",
       "      <td>...</td>\n",
       "      <td>0.01944</td>\n",
       "      <td>0.03706</td>\n",
       "      <td>0.01874</td>\n",
       "      <td>18.857</td>\n",
       "      <td>0.637518</td>\n",
       "      <td>0.735546</td>\n",
       "      <td>-5.594275</td>\n",
       "      <td>0.127950</td>\n",
       "      <td>1.765957</td>\n",
       "      <td>0.222716</td>\n",
       "    </tr>\n",
       "    <tr>\n",
       "      <th>103</th>\n",
       "      <td>150.258</td>\n",
       "      <td>154.609</td>\n",
       "      <td>75.349</td>\n",
       "      <td>0.00248</td>\n",
       "      <td>0.00002</td>\n",
       "      <td>0.00105</td>\n",
       "      <td>0.00136</td>\n",
       "      <td>0.00315</td>\n",
       "      <td>0.01131</td>\n",
       "      <td>0.107</td>\n",
       "      <td>...</td>\n",
       "      <td>0.01009</td>\n",
       "      <td>0.01567</td>\n",
       "      <td>0.00495</td>\n",
       "      <td>26.759</td>\n",
       "      <td>0.296888</td>\n",
       "      <td>0.722356</td>\n",
       "      <td>-6.878393</td>\n",
       "      <td>0.089267</td>\n",
       "      <td>2.004055</td>\n",
       "      <td>0.113942</td>\n",
       "    </tr>\n",
       "    <tr>\n",
       "      <th>13</th>\n",
       "      <td>139.173</td>\n",
       "      <td>179.139</td>\n",
       "      <td>76.556</td>\n",
       "      <td>0.00390</td>\n",
       "      <td>0.00003</td>\n",
       "      <td>0.00165</td>\n",
       "      <td>0.00208</td>\n",
       "      <td>0.00496</td>\n",
       "      <td>0.01642</td>\n",
       "      <td>0.154</td>\n",
       "      <td>...</td>\n",
       "      <td>0.01797</td>\n",
       "      <td>0.02184</td>\n",
       "      <td>0.01041</td>\n",
       "      <td>24.889</td>\n",
       "      <td>0.430166</td>\n",
       "      <td>0.665833</td>\n",
       "      <td>-5.660217</td>\n",
       "      <td>0.254989</td>\n",
       "      <td>2.519422</td>\n",
       "      <td>0.199889</td>\n",
       "    </tr>\n",
       "    <tr>\n",
       "      <th>69</th>\n",
       "      <td>148.090</td>\n",
       "      <td>162.824</td>\n",
       "      <td>67.343</td>\n",
       "      <td>0.00762</td>\n",
       "      <td>0.00005</td>\n",
       "      <td>0.00467</td>\n",
       "      <td>0.00354</td>\n",
       "      <td>0.01400</td>\n",
       "      <td>0.05428</td>\n",
       "      <td>0.497</td>\n",
       "      <td>...</td>\n",
       "      <td>0.03635</td>\n",
       "      <td>0.10070</td>\n",
       "      <td>0.02431</td>\n",
       "      <td>21.718</td>\n",
       "      <td>0.487407</td>\n",
       "      <td>0.727313</td>\n",
       "      <td>-6.261141</td>\n",
       "      <td>0.120956</td>\n",
       "      <td>2.137075</td>\n",
       "      <td>0.141958</td>\n",
       "    </tr>\n",
       "    <tr>\n",
       "      <th>51</th>\n",
       "      <td>126.344</td>\n",
       "      <td>134.231</td>\n",
       "      <td>112.773</td>\n",
       "      <td>0.00448</td>\n",
       "      <td>0.00004</td>\n",
       "      <td>0.00131</td>\n",
       "      <td>0.00169</td>\n",
       "      <td>0.00393</td>\n",
       "      <td>0.02033</td>\n",
       "      <td>0.185</td>\n",
       "      <td>...</td>\n",
       "      <td>0.01614</td>\n",
       "      <td>0.03429</td>\n",
       "      <td>0.00474</td>\n",
       "      <td>25.030</td>\n",
       "      <td>0.507504</td>\n",
       "      <td>0.760361</td>\n",
       "      <td>-6.689151</td>\n",
       "      <td>0.291954</td>\n",
       "      <td>2.431854</td>\n",
       "      <td>0.105993</td>\n",
       "    </tr>\n",
       "  </tbody>\n",
       "</table>\n",
       "<p>156 rows × 22 columns</p>\n",
       "</div>"
      ],
      "text/plain": [
       "     MDVP:Fo(Hz)  MDVP:Fhi(Hz)  MDVP:Flo(Hz)  MDVP:Jitter(%)  \\\n",
       "110      200.714       223.982        89.686         0.00621   \n",
       "38       180.198       201.249       175.456         0.00284   \n",
       "149      202.632       565.740       177.258         0.01627   \n",
       "111      208.519       220.315       199.020         0.00609   \n",
       "119      217.116       233.481        93.978         0.00404   \n",
       "..           ...           ...           ...             ...   \n",
       "125      145.174       198.109        80.637         0.00733   \n",
       "103      150.258       154.609        75.349         0.00248   \n",
       "13       139.173       179.139        76.556         0.00390   \n",
       "69       148.090       162.824        67.343         0.00762   \n",
       "51       126.344       134.231       112.773         0.00448   \n",
       "\n",
       "     MDVP:Jitter(Abs)  MDVP:RAP  MDVP:PPQ  Jitter:DDP  MDVP:Shimmer  \\\n",
       "110           0.00003   0.00371   0.00337     0.01112       0.02286   \n",
       "38            0.00002   0.00153   0.00166     0.00459       0.01444   \n",
       "149           0.00008   0.00919   0.00963     0.02756       0.07170   \n",
       "111           0.00003   0.00368   0.00339     0.01105       0.01761   \n",
       "119           0.00002   0.00127   0.00128     0.00381       0.01299   \n",
       "..                ...       ...       ...         ...           ...   \n",
       "125           0.00005   0.00414   0.00422     0.01242       0.02362   \n",
       "103           0.00002   0.00105   0.00136     0.00315       0.01131   \n",
       "13            0.00003   0.00165   0.00208     0.00496       0.01642   \n",
       "69            0.00005   0.00467   0.00354     0.01400       0.05428   \n",
       "51            0.00004   0.00131   0.00169     0.00393       0.02033   \n",
       "\n",
       "     MDVP:Shimmer(dB)  ...  MDVP:APQ  Shimmer:DDA      NHR     HNR      RPDE  \\\n",
       "110             0.207  ...   0.01852      0.03576  0.00704  23.239  0.436084   \n",
       "38              0.131  ...   0.01190      0.02177  0.00231  26.738  0.403884   \n",
       "149             0.833  ...   0.06460      0.10546  0.07889  14.989  0.427627   \n",
       "111             0.155  ...   0.01307      0.02855  0.00830  22.407  0.338097   \n",
       "119             0.124  ...   0.01075      0.02038  0.00681  24.581  0.462516   \n",
       "..                ...  ...       ...          ...      ...     ...       ...   \n",
       "125             0.233  ...   0.01944      0.03706  0.01874  18.857  0.637518   \n",
       "103             0.107  ...   0.01009      0.01567  0.00495  26.759  0.296888   \n",
       "13              0.154  ...   0.01797      0.02184  0.01041  24.889  0.430166   \n",
       "69              0.497  ...   0.03635      0.10070  0.02431  21.718  0.487407   \n",
       "51              0.185  ...   0.01614      0.03429  0.00474  25.030  0.507504   \n",
       "\n",
       "          DFA   spread1   spread2        D2       PPE  \n",
       "110  0.727863 -5.258320  0.256454  2.550961  0.232520  \n",
       "38   0.766209 -6.452058  0.212294  2.269398  0.141929  \n",
       "149  0.775708 -4.892495  0.262281  2.910213  0.270173  \n",
       "111  0.712466 -6.471427  0.184378  2.502336  0.136390  \n",
       "119  0.582710 -5.517173  0.389295  2.925862  0.220657  \n",
       "..        ...       ...       ...       ...       ...  \n",
       "125  0.735546 -5.594275  0.127950  1.765957  0.222716  \n",
       "103  0.722356 -6.878393  0.089267  2.004055  0.113942  \n",
       "13   0.665833 -5.660217  0.254989  2.519422  0.199889  \n",
       "69   0.727313 -6.261141  0.120956  2.137075  0.141958  \n",
       "51   0.760361 -6.689151  0.291954  2.431854  0.105993  \n",
       "\n",
       "[156 rows x 22 columns]"
      ]
     },
     "execution_count": 9,
     "metadata": {},
     "output_type": "execute_result"
    }
   ],
   "source": [
    "# Setting the train data to variable name \"parkinsons\" for data preprocessing\n",
    "parkinsons = X_train.copy()\n",
    "parkinsons"
   ]
  },
  {
   "cell_type": "code",
   "execution_count": 10,
   "metadata": {
    "colab": {
     "base_uri": "https://localhost:8080/"
    },
    "executionInfo": {
     "elapsed": 17,
     "status": "ok",
     "timestamp": 1715595010620,
     "user": {
      "displayName": "Jigisha Lad",
      "userId": "13146438656362615572"
     },
     "user_tz": -330
    },
    "id": "k59bKK7-J0W3",
    "outputId": "7990cf75-4f4f-44ca-f81e-f6e513b9d741"
   },
   "outputs": [
    {
     "data": {
      "text/plain": [
       "110    1\n",
       "38     1\n",
       "149    1\n",
       "111    1\n",
       "119    1\n",
       "      ..\n",
       "125    1\n",
       "103    1\n",
       "13     1\n",
       "69     1\n",
       "51     0\n",
       "Name: status, Length: 156, dtype: int64"
      ]
     },
     "execution_count": 10,
     "metadata": {},
     "output_type": "execute_result"
    }
   ],
   "source": [
    "y_train"
   ]
  },
  {
   "cell_type": "code",
   "execution_count": 11,
   "metadata": {
    "colab": {
     "base_uri": "https://localhost:8080/"
    },
    "executionInfo": {
     "elapsed": 15,
     "status": "ok",
     "timestamp": 1715595010621,
     "user": {
      "displayName": "Jigisha Lad",
      "userId": "13146438656362615572"
     },
     "user_tz": -330
    },
    "id": "bBmPdKwEJ0W3",
    "outputId": "46b98001-a8d2-43dd-8a7d-36ff23d0c79e"
   },
   "outputs": [
    {
     "data": {
      "text/plain": [
       "MDVP:Fo(Hz)         200.714000\n",
       "MDVP:Fhi(Hz)        223.982000\n",
       "MDVP:Flo(Hz)         89.686000\n",
       "MDVP:Jitter(%)        0.006210\n",
       "MDVP:Jitter(Abs)      0.000030\n",
       "MDVP:RAP              0.003710\n",
       "MDVP:PPQ              0.003370\n",
       "Jitter:DDP            0.011120\n",
       "MDVP:Shimmer          0.022860\n",
       "MDVP:Shimmer(dB)      0.207000\n",
       "Shimmer:APQ3          0.011920\n",
       "Shimmer:APQ5          0.014390\n",
       "MDVP:APQ              0.018520\n",
       "Shimmer:DDA           0.035760\n",
       "NHR                   0.007040\n",
       "HNR                  23.239000\n",
       "RPDE                  0.436084\n",
       "DFA                   0.727863\n",
       "spread1              -5.258320\n",
       "spread2               0.256454\n",
       "D2                    2.550961\n",
       "PPE                   0.232520\n",
       "Name: 110, dtype: float64"
      ]
     },
     "execution_count": 11,
     "metadata": {},
     "output_type": "execute_result"
    }
   ],
   "source": [
    "parkinsons.iloc[0]"
   ]
  },
  {
   "cell_type": "markdown",
   "metadata": {
    "id": "Yb1G1xfvJ0W3"
   },
   "source": [
    "#### Handling of Missing data\n"
   ]
  },
  {
   "cell_type": "code",
   "execution_count": 12,
   "metadata": {
    "executionInfo": {
     "elapsed": 14,
     "status": "ok",
     "timestamp": 1715595010622,
     "user": {
      "displayName": "Jigisha Lad",
      "userId": "13146438656362615572"
     },
     "user_tz": -330
    },
    "id": "NlBtuqRvJ0W3"
   },
   "outputs": [],
   "source": [
    "# Extracting features\n",
    "features = [feature for feature in parkinsons.columns]"
   ]
  },
  {
   "cell_type": "markdown",
   "metadata": {
    "id": "CbMG113EJ0W4"
   },
   "source": [
    "There is no missing data in this dataset"
   ]
  },
  {
   "cell_type": "code",
   "execution_count": 13,
   "metadata": {
    "colab": {
     "base_uri": "https://localhost:8080/"
    },
    "executionInfo": {
     "elapsed": 13,
     "status": "ok",
     "timestamp": 1715595010622,
     "user": {
      "displayName": "Jigisha Lad",
      "userId": "13146438656362615572"
     },
     "user_tz": -330
    },
    "id": "hhykde7xJ0W4",
    "outputId": "d3bc52f0-1e54-4301-ab66-013a3de7a261"
   },
   "outputs": [
    {
     "data": {
      "text/plain": [
       "MDVP:Fo(Hz)         0\n",
       "MDVP:Fhi(Hz)        0\n",
       "MDVP:Flo(Hz)        0\n",
       "MDVP:Jitter(%)      0\n",
       "MDVP:Jitter(Abs)    0\n",
       "MDVP:RAP            0\n",
       "MDVP:PPQ            0\n",
       "Jitter:DDP          0\n",
       "MDVP:Shimmer        0\n",
       "MDVP:Shimmer(dB)    0\n",
       "Shimmer:APQ3        0\n",
       "Shimmer:APQ5        0\n",
       "MDVP:APQ            0\n",
       "Shimmer:DDA         0\n",
       "NHR                 0\n",
       "HNR                 0\n",
       "RPDE                0\n",
       "DFA                 0\n",
       "spread1             0\n",
       "spread2             0\n",
       "D2                  0\n",
       "PPE                 0\n",
       "dtype: int64"
      ]
     },
     "execution_count": 13,
     "metadata": {},
     "output_type": "execute_result"
    }
   ],
   "source": [
    "# Check total of missing values\n",
    "parkinsons.isna().sum()"
   ]
  },
  {
   "cell_type": "markdown",
   "metadata": {
    "id": "IUbZjqV5J0W4"
   },
   "source": [
    "#### Feature Scaling\n",
    "Scaling values to a range of -3 to 3, so as to boost model perfomance"
   ]
  },
  {
   "cell_type": "code",
   "execution_count": 14,
   "metadata": {
    "executionInfo": {
     "elapsed": 12,
     "status": "ok",
     "timestamp": 1715595010622,
     "user": {
      "displayName": "Jigisha Lad",
      "userId": "13146438656362615572"
     },
     "user_tz": -330
    },
    "id": "GIJX64EbJ0W4"
   },
   "outputs": [],
   "source": [
    "# import library for scaling\n",
    "from sklearn.preprocessing import StandardScaler"
   ]
  },
  {
   "cell_type": "code",
   "execution_count": 15,
   "metadata": {
    "executionInfo": {
     "elapsed": 12,
     "status": "ok",
     "timestamp": 1715595010623,
     "user": {
      "displayName": "Jigisha Lad",
      "userId": "13146438656362615572"
     },
     "user_tz": -330
    },
    "id": "DKTkEfC1J0W4"
   },
   "outputs": [],
   "source": [
    "# initialize and scale values\n",
    "scaler = StandardScaler()\n",
    "scaler.fit(parkinsons[features])\n",
    "parkinsons[features] = scaler.transform(parkinsons[features])"
   ]
  },
  {
   "cell_type": "code",
   "execution_count": 23,
   "metadata": {
    "colab": {
     "base_uri": "https://localhost:8080/"
    },
    "executionInfo": {
     "elapsed": 12,
     "status": "ok",
     "timestamp": 1715595010623,
     "user": {
      "displayName": "Jigisha Lad",
      "userId": "13146438656362615572"
     },
     "user_tz": -330
    },
    "id": "RU0VjBflJ0W4",
    "outputId": "bfb7ee59-1500-45c1-89b8-4f99808f132c"
   },
   "outputs": [
    {
     "ename": "PermissionError",
     "evalue": "[Errno 13] Permission denied: 'C:\\\\Users\\\\anagh\\\\OneDrive\\\\Desktop\\\\SCALER'",
     "output_type": "error",
     "traceback": [
      "\u001b[1;31m---------------------------------------------------------------------------\u001b[0m",
      "\u001b[1;31mPermissionError\u001b[0m                           Traceback (most recent call last)",
      "Cell \u001b[1;32mIn[23], line 1\u001b[0m\n\u001b[1;32m----> 1\u001b[0m joblib\u001b[38;5;241m.\u001b[39mdump(scaler, \u001b[38;5;124mr\u001b[39m\u001b[38;5;124m'\u001b[39m\u001b[38;5;124mC:\u001b[39m\u001b[38;5;124m\\\u001b[39m\u001b[38;5;124mUsers\u001b[39m\u001b[38;5;124m\\\u001b[39m\u001b[38;5;124managh\u001b[39m\u001b[38;5;124m\\\u001b[39m\u001b[38;5;124mOneDrive\u001b[39m\u001b[38;5;124m\\\u001b[39m\u001b[38;5;124mDesktop\u001b[39m\u001b[38;5;124m\\\u001b[39m\u001b[38;5;124mSCALER\u001b[39m\u001b[38;5;124m'\u001b[39m)\n",
      "File \u001b[1;32m~\\anaconda3\\Lib\\site-packages\\joblib\\numpy_pickle.py:552\u001b[0m, in \u001b[0;36mdump\u001b[1;34m(value, filename, compress, protocol, cache_size)\u001b[0m\n\u001b[0;32m    550\u001b[0m         NumpyPickler(f, protocol\u001b[38;5;241m=\u001b[39mprotocol)\u001b[38;5;241m.\u001b[39mdump(value)\n\u001b[0;32m    551\u001b[0m \u001b[38;5;28;01melif\u001b[39;00m is_filename:\n\u001b[1;32m--> 552\u001b[0m     \u001b[38;5;28;01mwith\u001b[39;00m \u001b[38;5;28mopen\u001b[39m(filename, \u001b[38;5;124m'\u001b[39m\u001b[38;5;124mwb\u001b[39m\u001b[38;5;124m'\u001b[39m) \u001b[38;5;28;01mas\u001b[39;00m f:\n\u001b[0;32m    553\u001b[0m         NumpyPickler(f, protocol\u001b[38;5;241m=\u001b[39mprotocol)\u001b[38;5;241m.\u001b[39mdump(value)\n\u001b[0;32m    554\u001b[0m \u001b[38;5;28;01melse\u001b[39;00m:\n",
      "\u001b[1;31mPermissionError\u001b[0m: [Errno 13] Permission denied: 'C:\\\\Users\\\\anagh\\\\OneDrive\\\\Desktop\\\\SCALER'"
     ]
    }
   ],
   "source": [
    "joblib.dump(scaler, r'C:\\Users\\anagh\\OneDrive\\Desktop\\SCALER')"
   ]
  },
  {
   "cell_type": "code",
   "execution_count": 16,
   "metadata": {
    "executionInfo": {
     "elapsed": 12,
     "status": "ok",
     "timestamp": 1715595010623,
     "user": {
      "displayName": "Jigisha Lad",
      "userId": "13146438656362615572"
     },
     "user_tz": -330
    },
    "id": "6qH57f1PxN5E"
   },
   "outputs": [],
   "source": [
    "import os\n",
    "\n",
    "directory = \"tools\"\n",
    "if not os.path.exists(directory):\n",
    "    os.makedirs(directory)"
   ]
  },
  {
   "cell_type": "markdown",
   "metadata": {
    "id": "YnZathxzJ0W4"
   },
   "source": [
    "### Class Imbalance"
   ]
  },
  {
   "cell_type": "code",
   "execution_count": null,
   "metadata": {
    "colab": {
     "base_uri": "https://localhost:8080/"
    },
    "executionInfo": {
     "elapsed": 3,
     "status": "ok",
     "timestamp": 1715595014063,
     "user": {
      "displayName": "Jigisha Lad",
      "userId": "13146438656362615572"
     },
     "user_tz": -330
    },
    "id": "r1rSjNijJ0W4",
    "outputId": "7d268ab3-8699-4a3c-8974-3c08413dc332"
   },
   "outputs": [],
   "source": [
    "#  Ratio of No Parkinson to Parkinson\n",
    "y_train.value_counts(normalize=True)"
   ]
  },
  {
   "cell_type": "code",
   "execution_count": null,
   "metadata": {
    "executionInfo": {
     "elapsed": 729,
     "status": "ok",
     "timestamp": 1715595019236,
     "user": {
      "displayName": "Jigisha Lad",
      "userId": "13146438656362615572"
     },
     "user_tz": -330
    },
    "id": "2x1BVH8PJ0W5"
   },
   "outputs": [],
   "source": [
    "# joining the data together\n",
    "parkinsons = pd.concat([parkinsons, y_train], axis=1)"
   ]
  },
  {
   "cell_type": "code",
   "execution_count": null,
   "metadata": {
    "executionInfo": {
     "elapsed": 801,
     "status": "ok",
     "timestamp": 1715595022160,
     "user": {
      "displayName": "Jigisha Lad",
      "userId": "13146438656362615572"
     },
     "user_tz": -330
    },
    "id": "CAYgilK4J0W5"
   },
   "outputs": [],
   "source": [
    "# Balancing the data\n",
    "from imblearn.over_sampling import SMOTE\n",
    "smote = SMOTE(random_state=51)\n",
    "X = parkinsons.drop(\"status\", axis=1)\n",
    "y = parkinsons[\"status\"]\n",
    "X_train, y_train = smote.fit_resample(X, y)"
   ]
  },
  {
   "cell_type": "code",
   "execution_count": null,
   "metadata": {
    "colab": {
     "base_uri": "https://localhost:8080/"
    },
    "executionInfo": {
     "elapsed": 709,
     "status": "ok",
     "timestamp": 1715595024831,
     "user": {
      "displayName": "Jigisha Lad",
      "userId": "13146438656362615572"
     },
     "user_tz": -330
    },
    "id": "iilFJwbBJ0W6",
    "outputId": "22e2ac0d-e140-4abe-d619-b0a8b56b67bd"
   },
   "outputs": [],
   "source": [
    "\n",
    "y_train.value_counts(normalize=True)"
   ]
  },
  {
   "cell_type": "markdown",
   "metadata": {
    "id": "OqXyuinLJ0W6"
   },
   "source": [
    "### Model Building"
   ]
  },
  {
   "cell_type": "markdown",
   "metadata": {
    "id": "PlQYXeZkJ0W6"
   },
   "source": [
    "#### Preprocessing Test data"
   ]
  },
  {
   "cell_type": "code",
   "execution_count": null,
   "metadata": {
    "executionInfo": {
     "elapsed": 621,
     "status": "ok",
     "timestamp": 1715595031877,
     "user": {
      "displayName": "Jigisha Lad",
      "userId": "13146438656362615572"
     },
     "user_tz": -330
    },
    "id": "p5as6gv1J0W6"
   },
   "outputs": [],
   "source": [
    "X_test[features] = scaler.transform(X_test[features]) # scaling features"
   ]
  },
  {
   "cell_type": "code",
   "execution_count": null,
   "metadata": {
    "colab": {
     "base_uri": "https://localhost:8080/",
     "height": 0
    },
    "executionInfo": {
     "elapsed": 19,
     "status": "ok",
     "timestamp": 1715595031878,
     "user": {
      "displayName": "Jigisha Lad",
      "userId": "13146438656362615572"
     },
     "user_tz": -330
    },
    "id": "uaxME2s0J0W6",
    "outputId": "69700777-fd28-4401-9ea9-a3ca93da13d7"
   },
   "outputs": [],
   "source": [
    "# checking first 5 rows of data\n",
    "X_test.head()"
   ]
  },
  {
   "cell_type": "code",
   "execution_count": null,
   "metadata": {
    "colab": {
     "base_uri": "https://localhost:8080/"
    },
    "executionInfo": {
     "elapsed": 15,
     "status": "ok",
     "timestamp": 1715595031878,
     "user": {
      "displayName": "Jigisha Lad",
      "userId": "13146438656362615572"
     },
     "user_tz": -330
    },
    "id": "84H1s4tZJ0W6",
    "outputId": "a16d7d09-3115-4014-ea9f-0f3099f7dabd"
   },
   "outputs": [],
   "source": [
    "X_test.shape"
   ]
  },
  {
   "cell_type": "markdown",
   "metadata": {
    "id": "8RThpRogJ0W6"
   },
   "source": [
    "#### Random Forest"
   ]
  },
  {
   "cell_type": "markdown",
   "metadata": {
    "id": "9_0Qidy3J0W7"
   },
   "source": [
    "Import Model"
   ]
  },
  {
   "cell_type": "code",
   "execution_count": null,
   "metadata": {
    "executionInfo": {
     "elapsed": 17,
     "status": "ok",
     "timestamp": 1715595031881,
     "user": {
      "displayName": "Jigisha Lad",
      "userId": "13146438656362615572"
     },
     "user_tz": -330
    },
    "id": "vN6TAJjbJ0W7"
   },
   "outputs": [],
   "source": [
    "from sklearn.ensemble import RandomForestClassifier"
   ]
  },
  {
   "cell_type": "code",
   "execution_count": null,
   "metadata": {
    "executionInfo": {
     "elapsed": 17,
     "status": "ok",
     "timestamp": 1715595031882,
     "user": {
      "displayName": "Jigisha Lad",
      "userId": "13146438656362615572"
     },
     "user_tz": -330
    },
    "id": "-NdLn5jxJ0W7"
   },
   "outputs": [],
   "source": [
    "model = RandomForestClassifier(random_state=51, n_jobs=-1)"
   ]
  },
  {
   "cell_type": "markdown",
   "metadata": {
    "id": "jkYJO5SWJ0XF"
   },
   "source": [
    "Train model and make predictions"
   ]
  },
  {
   "cell_type": "code",
   "execution_count": null,
   "metadata": {
    "colab": {
     "base_uri": "https://localhost:8080/",
     "height": 0
    },
    "executionInfo": {
     "elapsed": 17,
     "status": "ok",
     "timestamp": 1715595031882,
     "user": {
      "displayName": "Jigisha Lad",
      "userId": "13146438656362615572"
     },
     "user_tz": -330
    },
    "id": "29g9XkWTJ0XF",
    "outputId": "eee49835-c06a-4155-e948-efd5e3c01ba6"
   },
   "outputs": [],
   "source": [
    "model.fit(X_train, y_train)"
   ]
  },
  {
   "cell_type": "code",
   "execution_count": null,
   "metadata": {
    "executionInfo": {
     "elapsed": 15,
     "status": "ok",
     "timestamp": 1715595031882,
     "user": {
      "displayName": "Jigisha Lad",
      "userId": "13146438656362615572"
     },
     "user_tz": -330
    },
    "id": "4dCn82p-J0XF"
   },
   "outputs": [],
   "source": [
    "predictions = model.predict(X_test)"
   ]
  },
  {
   "cell_type": "markdown",
   "metadata": {
    "id": "7Scx5afQJ0XF"
   },
   "source": [
    "#### RF Performance"
   ]
  },
  {
   "cell_type": "code",
   "execution_count": null,
   "metadata": {
    "executionInfo": {
     "elapsed": 16,
     "status": "ok",
     "timestamp": 1715595031883,
     "user": {
      "displayName": "Jigisha Lad",
      "userId": "13146438656362615572"
     },
     "user_tz": -330
    },
    "id": "WOkpBhNBJ0XF"
   },
   "outputs": [],
   "source": [
    "# libraries to check performance\n",
    "from sklearn.metrics import accuracy_score, confusion_matrix, f1_score,  recall_score"
   ]
  },
  {
   "cell_type": "code",
   "execution_count": null,
   "metadata": {
    "colab": {
     "base_uri": "https://localhost:8080/"
    },
    "executionInfo": {
     "elapsed": 15,
     "status": "ok",
     "timestamp": 1715595031883,
     "user": {
      "displayName": "Jigisha Lad",
      "userId": "13146438656362615572"
     },
     "user_tz": -330
    },
    "id": "Nl22TcE1J0XF",
    "outputId": "df9f7145-75d2-4b7a-da76-0b65cbfd564f"
   },
   "outputs": [],
   "source": [
    "print(f\"The accuracy is {accuracy_score(y_test, predictions) * 100:.2f} %\")\n",
    "print(f\"The f1 score is {f1_score(y_test, predictions) * 100:.2f} %\")\n",
    "print(f\"The recall is {recall_score(y_test, predictions) * 100:.2f} %\")"
   ]
  },
  {
   "cell_type": "markdown",
   "metadata": {
    "id": "088_OqHpJ0XG"
   },
   "source": [
    "Confusion matrix"
   ]
  },
  {
   "cell_type": "code",
   "execution_count": null,
   "metadata": {
    "colab": {
     "base_uri": "https://localhost:8080/",
     "height": 0
    },
    "executionInfo": {
     "elapsed": 831,
     "status": "ok",
     "timestamp": 1715595032700,
     "user": {
      "displayName": "Jigisha Lad",
      "userId": "13146438656362615572"
     },
     "user_tz": -330
    },
    "id": "124r6W_2J0XG",
    "outputId": "f403e48e-56a0-4597-c728-881cc85aefa3"
   },
   "outputs": [],
   "source": [
    "sns.heatmap(confusion_matrix(y_test, predictions), annot=True, cbar=False);\n",
    "# TN   FP\n",
    "# FN*   TP - Recall"
   ]
  },
  {
   "cell_type": "code",
   "execution_count": null,
   "metadata": {},
   "outputs": [],
   "source": [
    "# pip install xgboost"
   ]
  },
  {
   "cell_type": "markdown",
   "metadata": {
    "id": "oC5mDOcpJ0XG"
   },
   "source": [
    "XGboost"
   ]
  },
  {
   "cell_type": "markdown",
   "metadata": {
    "id": "QSfsZif_J0XG"
   },
   "source": [
    "Import Model"
   ]
  },
  {
   "cell_type": "code",
   "execution_count": null,
   "metadata": {
    "executionInfo": {
     "elapsed": 12,
     "status": "ok",
     "timestamp": 1715595032700,
     "user": {
      "displayName": "Jigisha Lad",
      "userId": "13146438656362615572"
     },
     "user_tz": -330
    },
    "id": "MphhKnMJJ0XG"
   },
   "outputs": [],
   "source": [
    "from xgboost import XGBClassifier"
   ]
  },
  {
   "cell_type": "code",
   "execution_count": null,
   "metadata": {
    "executionInfo": {
     "elapsed": 12,
     "status": "ok",
     "timestamp": 1715595032701,
     "user": {
      "displayName": "Jigisha Lad",
      "userId": "13146438656362615572"
     },
     "user_tz": -330
    },
    "id": "hwayfXg5J0XG"
   },
   "outputs": [],
   "source": [
    "xgb = XGBClassifier(random_state=51)"
   ]
  },
  {
   "cell_type": "markdown",
   "metadata": {
    "id": "gzYfYY_9J0XG"
   },
   "source": [
    "Train model and make predictions"
   ]
  },
  {
   "cell_type": "code",
   "execution_count": null,
   "metadata": {
    "colab": {
     "base_uri": "https://localhost:8080/",
     "height": 0
    },
    "executionInfo": {
     "elapsed": 12,
     "status": "ok",
     "timestamp": 1715595032701,
     "user": {
      "displayName": "Jigisha Lad",
      "userId": "13146438656362615572"
     },
     "user_tz": -330
    },
    "id": "pNpgh0vXJ0XH",
    "outputId": "ac098a3e-0f77-41d2-d2bf-52ccd22cc8a0"
   },
   "outputs": [],
   "source": [
    "xgb.fit(X_train, y_train)"
   ]
  },
  {
   "cell_type": "code",
   "execution_count": null,
   "metadata": {
    "executionInfo": {
     "elapsed": 11,
     "status": "ok",
     "timestamp": 1715595032701,
     "user": {
      "displayName": "Jigisha Lad",
      "userId": "13146438656362615572"
     },
     "user_tz": -330
    },
    "id": "T7cg6dd9J0XH"
   },
   "outputs": [],
   "source": [
    "predictions = xgb.predict(X_test)"
   ]
  },
  {
   "cell_type": "markdown",
   "metadata": {
    "id": "mLTWFU_xJ0XH"
   },
   "source": [
    "#### XGBoost Performance"
   ]
  },
  {
   "cell_type": "code",
   "execution_count": null,
   "metadata": {
    "colab": {
     "base_uri": "https://localhost:8080/"
    },
    "executionInfo": {
     "elapsed": 11,
     "status": "ok",
     "timestamp": 1715595032701,
     "user": {
      "displayName": "Jigisha Lad",
      "userId": "13146438656362615572"
     },
     "user_tz": -330
    },
    "id": "fJdHj1nNJ0XH",
    "outputId": "6d4b5e33-ff08-4911-adfe-9b43ba1ed032"
   },
   "outputs": [],
   "source": [
    "print(f\"The accuracy is {accuracy_score(y_test, predictions) * 100:.2f} %\")\n",
    "print(f\"The f1 score is {f1_score(y_test, predictions) * 100:.2f} %\")\n",
    "print(f\"The recall is {recall_score(y_test, predictions) * 100:.2f} %\")"
   ]
  },
  {
   "cell_type": "markdown",
   "metadata": {
    "id": "AV2E_gyCJ0XH"
   },
   "source": [
    "Confusion Matrix"
   ]
  },
  {
   "cell_type": "code",
   "execution_count": null,
   "metadata": {
    "colab": {
     "base_uri": "https://localhost:8080/",
     "height": 0
    },
    "executionInfo": {
     "elapsed": 10,
     "status": "ok",
     "timestamp": 1715595032701,
     "user": {
      "displayName": "Jigisha Lad",
      "userId": "13146438656362615572"
     },
     "user_tz": -330
    },
    "id": "nE4hmqipJ0XH",
    "outputId": "291a6037-145b-4202-da6f-4eabda4ccce6"
   },
   "outputs": [],
   "source": [
    "sns.heatmap(confusion_matrix(y_test, predictions), annot=True, cbar=False);\n",
    "# TN   FP\n",
    "# FN*   TP - Recall"
   ]
  },
  {
   "cell_type": "markdown",
   "metadata": {
    "id": "3nkdHNTNJ0XI"
   },
   "source": [
    "### SVM"
   ]
  },
  {
   "cell_type": "markdown",
   "metadata": {
    "id": "UaHc927iJ0XI"
   },
   "source": [
    "Import Model"
   ]
  },
  {
   "cell_type": "code",
   "execution_count": null,
   "metadata": {
    "executionInfo": {
     "elapsed": 22,
     "status": "ok",
     "timestamp": 1715595036013,
     "user": {
      "displayName": "Jigisha Lad",
      "userId": "13146438656362615572"
     },
     "user_tz": -330
    },
    "id": "uiBkWaEYJ0XI"
   },
   "outputs": [],
   "source": [
    "from sklearn.svm import SVC"
   ]
  },
  {
   "cell_type": "code",
   "execution_count": null,
   "metadata": {
    "executionInfo": {
     "elapsed": 21,
     "status": "ok",
     "timestamp": 1715595036014,
     "user": {
      "displayName": "Jigisha Lad",
      "userId": "13146438656362615572"
     },
     "user_tz": -330
    },
    "id": "SSt4s6WqJ0XI"
   },
   "outputs": [],
   "source": [
    "svm = SVC()"
   ]
  },
  {
   "cell_type": "markdown",
   "metadata": {
    "id": "hGIzi844J0XI"
   },
   "source": [
    "Train model and make predictions"
   ]
  },
  {
   "cell_type": "code",
   "execution_count": null,
   "metadata": {
    "colab": {
     "base_uri": "https://localhost:8080/",
     "height": 0
    },
    "executionInfo": {
     "elapsed": 20,
     "status": "ok",
     "timestamp": 1715595036014,
     "user": {
      "displayName": "Jigisha Lad",
      "userId": "13146438656362615572"
     },
     "user_tz": -330
    },
    "id": "Fo1b5E34J0XI",
    "outputId": "d9a4bf61-5b50-44ca-a4a8-97ee4502a3b4"
   },
   "outputs": [],
   "source": [
    "svm.fit(X_train, y_train)"
   ]
  },
  {
   "cell_type": "code",
   "execution_count": null,
   "metadata": {
    "executionInfo": {
     "elapsed": 17,
     "status": "ok",
     "timestamp": 1715595036014,
     "user": {
      "displayName": "Jigisha Lad",
      "userId": "13146438656362615572"
     },
     "user_tz": -330
    },
    "id": "ZXLedRJCJ0XI"
   },
   "outputs": [],
   "source": [
    "predictions = svm.predict(X_test)"
   ]
  },
  {
   "cell_type": "markdown",
   "metadata": {
    "id": "lSSSA-pVJ0XI"
   },
   "source": [
    "#### SVM Performance"
   ]
  },
  {
   "cell_type": "code",
   "execution_count": null,
   "metadata": {
    "colab": {
     "base_uri": "https://localhost:8080/"
    },
    "executionInfo": {
     "elapsed": 17,
     "status": "ok",
     "timestamp": 1715595036015,
     "user": {
      "displayName": "Jigisha Lad",
      "userId": "13146438656362615572"
     },
     "user_tz": -330
    },
    "id": "WEsKqPu6J0XI",
    "outputId": "bebdb905-85bf-4a67-ec43-108f124de9c0"
   },
   "outputs": [],
   "source": [
    "print(f\"The accuracy is {accuracy_score(y_test, predictions) * 100:.2f} %\")\n",
    "print(f\"The f1 score is {f1_score(y_test, predictions) * 100:.2f} %\")\n",
    "print(f\"The recall is {recall_score(y_test, predictions) * 100:.2f} %\")"
   ]
  },
  {
   "cell_type": "markdown",
   "metadata": {
    "id": "BQ4r4hJQJ0XJ"
   },
   "source": [
    "Confusion Matrix"
   ]
  },
  {
   "cell_type": "code",
   "execution_count": null,
   "metadata": {
    "colab": {
     "base_uri": "https://localhost:8080/",
     "height": 0
    },
    "executionInfo": {
     "elapsed": 15,
     "status": "ok",
     "timestamp": 1715595036015,
     "user": {
      "displayName": "Jigisha Lad",
      "userId": "13146438656362615572"
     },
     "user_tz": -330
    },
    "id": "Nxvsf_bPJ0XJ",
    "outputId": "8b2e76e4-f1e1-4ebc-a219-b9a0383de968"
   },
   "outputs": [],
   "source": [
    "sns.heatmap(confusion_matrix(y_test, predictions), annot=True, cbar=False);\n",
    "# TN   FP\n",
    "# FN*   TP - Recall"
   ]
  },
  {
   "cell_type": "markdown",
   "metadata": {
    "id": "rX_8JeqwJ0XJ"
   },
   "source": [
    "### Most important features\n",
    "Here we check the top 10 most important features that contribute to the prediction of parkinsons\n",
    "* spread1\n",
    "* MDVP:Fo(Hz)\n",
    "* PPE\n",
    "* MDVP:Fhi(Hz)\n",
    "* spread2\n",
    "* MDVP:APQ\n",
    "* MDVP:Flo(Hz)\n",
    "* Shimmer:APQ5\n",
    "* MDVP:PPQ\n",
    "* MDVP:Shimmer\n"
   ]
  },
  {
   "cell_type": "code",
   "execution_count": null,
   "metadata": {
    "executionInfo": {
     "elapsed": 745,
     "status": "ok",
     "timestamp": 1715595042141,
     "user": {
      "displayName": "Jigisha Lad",
      "userId": "13146438656362615572"
     },
     "user_tz": -330
    },
    "id": "3qC9FSfUJ0XJ"
   },
   "outputs": [],
   "source": [
    "importance_df = pd.DataFrame({\n",
    "    \"Feature\" : features,\n",
    "    \"Importance\" : model.feature_importances_}).sort_values(\"Importance\", ascending=False)"
   ]
  },
  {
   "cell_type": "code",
   "execution_count": null,
   "metadata": {
    "colab": {
     "base_uri": "https://localhost:8080/",
     "height": 564
    },
    "executionInfo": {
     "elapsed": 1004,
     "status": "ok",
     "timestamp": 1715595045080,
     "user": {
      "displayName": "Jigisha Lad",
      "userId": "13146438656362615572"
     },
     "user_tz": -330
    },
    "id": "FNYOSKEAJ0XK",
    "outputId": "9652f107-42f7-4468-b189-4ffa524163d7"
   },
   "outputs": [],
   "source": [
    "plt.figure(figsize=[10,6])\n",
    "plt.title(\"Most Important Features\")\n",
    "sns.barplot(data=importance_df.head(10), y=\"Feature\", x=\"Importance\");"
   ]
  },
  {
   "cell_type": "markdown",
   "metadata": {
    "id": "F42Bz0o9J0XK"
   },
   "source": [
    "### Saving The Model"
   ]
  },
  {
   "cell_type": "markdown",
   "metadata": {
    "id": "9e7CKGNMJ0XK"
   },
   "source": [
    "Random Forest had the best recall and F1 score so that would be our final model"
   ]
  },
  {
   "cell_type": "code",
   "execution_count": null,
   "metadata": {
    "executionInfo": {
     "elapsed": 4,
     "status": "ok",
     "timestamp": 1715595048407,
     "user": {
      "displayName": "Jigisha Lad",
      "userId": "13146438656362615572"
     },
     "user_tz": -330
    },
    "id": "iAFMrVFJJ0XK"
   },
   "outputs": [],
   "source": [
    "\n",
    "# #file_path = r\"/Untitled Folder\"\n",
    "\n",
    "# file_path = r'C:\\Users\\anagh\\OneDrive\\Desktop\\your_model.sav'\n",
    "# joblib.dump(model, file_path)\n"
   ]
  },
  {
   "cell_type": "markdown",
   "metadata": {
    "id": "Z1wzggBpIX_P"
   },
   "source": [
    "TESTING IF PERSON HAS PD"
   ]
  },
  {
   "cell_type": "code",
   "execution_count": null,
   "metadata": {
    "colab": {
     "base_uri": "https://localhost:8080/"
    },
    "executionInfo": {
     "elapsed": 477,
     "status": "ok",
     "timestamp": 1715595542455,
     "user": {
      "displayName": "Jigisha Lad",
      "userId": "13146438656362615572"
     },
     "user_tz": -330
    },
    "id": "iCMlFcFZL8LB",
    "outputId": "5a94631b-e551-43f5-db91-cd733f54cfde"
   },
   "outputs": [],
   "source": [
    "input_data = (209.516, 253.017, 89.488, 0.00564, 0.00003, 0.00331, 0.00292, 0.00994, 0.02751, 0.263, 0.01604, 0.01657, 0.01879, 0.04812, 0.0181, 19.147, 0.431674, 0.683244, -6.195325, 0.129303, 2.784312, 0.168895)\n",
    "#input_data = (119.992, 157.302, 74.997, 0.00784, 0.00007, 0.0037, 0.00554, 0.01109, 0.04374, 0.426, 0.02182, 0.0313, 0.02971, 0.06545, 0.02211, 21.033, 0.414783, 0.815285, -4.813031, 0.266482, 2.301442, 0.284654)\n",
    "#input_data = (241.404, 248.834, 232.483, 0.00281, 0.00001, 0.00157, 0.00173, 0.0047, 0.0176, 0.154, 0.01006, 0.01038, 0.01251, 0.03017, 0.00675, 23.145, 0.457702, 0.634267, -6.793547, 0.158266, 2.256699, 0.117399)\n",
    "# changing input data to a numpy array\n",
    "input_data_as_numpy_array = np.asarray(input_data)\n",
    "\n",
    "# reshape the numpy array-compacting it w/o losing relevant data\n",
    "input_data_reshaped = input_data_as_numpy_array.reshape(1,-1)\n",
    "\n",
    "# standardize the data\n",
    "std_data = scaler.transform(input_data_reshaped)\n",
    "\n",
    "prediction = model.predict(std_data)\n",
    "print(prediction)\n",
    "\n",
    "\n",
    "if (prediction[0] == 0):\n",
    "  print(\"The Person does not have Parkinsons Disease\")\n",
    "\n",
    "else:\n",
    "  print(\"The Person has Parkinsons\")"
   ]
  },
  {
   "cell_type": "code",
   "execution_count": null,
   "metadata": {
    "id": "TVajvbEojRX9"
   },
   "outputs": [],
   "source": [
    "joblib.dump(model, 'C:\\\\Users\\\\anagh\\\\OneDrive\\\\Desktop\\\\SAV\\\\random_forest_model.sav')"
   ]
  },
  {
   "cell_type": "code",
   "execution_count": null,
   "metadata": {},
   "outputs": [],
   "source": []
  }
 ],
 "metadata": {
  "colab": {
   "collapsed_sections": [
    "WRAj2Ch1J0W2"
   ],
   "provenance": []
  },
  "kernelspec": {
   "display_name": "Python 3 (ipykernel)",
   "language": "python",
   "name": "python3"
  },
  "language_info": {
   "codemirror_mode": {
    "name": "ipython",
    "version": 3
   },
   "file_extension": ".py",
   "mimetype": "text/x-python",
   "name": "python",
   "nbconvert_exporter": "python",
   "pygments_lexer": "ipython3",
   "version": "3.11.7"
  },
  "vscode": {
   "interpreter": {
    "hash": "397fa5c989aefacd265b089cd9fa90a007575229207dba4eead3a1aa550249df"
   }
  }
 },
 "nbformat": 4,
 "nbformat_minor": 4
}
